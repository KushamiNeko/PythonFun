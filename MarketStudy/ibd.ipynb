{
 "cells": [
  {
   "cell_type": "code",
   "execution_count": 11,
   "metadata": {},
   "outputs": [
    {
     "data": {
      "text/plain": [
       "226"
      ]
     },
     "execution_count": 11,
     "metadata": {},
     "output_type": "execute_result"
    }
   ],
   "source": [
    "with open(\"data/IBD/IBD.txt\", \"r\") as f:\n",
    "    content = f.read() \n",
    "\n",
    "symbols = content.split(\"\\n\")\n",
    "symbols = [symbol.strip() for symbol in symbols if symbol.strip() != \"\"]\n",
    "symbols = list(set(symbols))\n",
    "\n",
    "len(symbols)"
   ]
  },
  {
   "cell_type": "code",
   "execution_count": 12,
   "metadata": {},
   "outputs": [],
   "source": [
    "with open(\"export/IBD/ibd.txt\", \"w\") as f:\n",
    "    f.write(\",\".join(symbols))"
   ]
  }
 ],
 "metadata": {
  "interpreter": {
   "hash": "59b353b8f03e6a074d83d2514068da5e6a7787f0c6ad4f3282d26b145b56da5a"
  },
  "kernelspec": {
   "display_name": "Python 3.10.2 ('env': venv)",
   "language": "python",
   "name": "python3"
  },
  "language_info": {
   "codemirror_mode": {
    "name": "ipython",
    "version": 3
   },
   "file_extension": ".py",
   "mimetype": "text/x-python",
   "name": "python",
   "nbconvert_exporter": "python",
   "pygments_lexer": "ipython3",
   "version": "3.10.2"
  },
  "orig_nbformat": 4
 },
 "nbformat": 4,
 "nbformat_minor": 2
}
